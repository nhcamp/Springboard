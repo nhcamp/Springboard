{
 "cells": [
  {
   "cell_type": "code",
   "execution_count": 1,
   "metadata": {},
   "outputs": [],
   "source": [
    "import pandas as pd\n",
    "import matplotlib.pyplot as plt"
   ]
  },
  {
   "cell_type": "markdown",
   "metadata": {},
   "source": [
    "First I want to read in the user engagement CSV so I can get a list of all adopted users. This will be my target in the second section. Code below will read in the csv, parse dates to datetime and pull out the year and week of each login. "
   ]
  },
  {
   "cell_type": "code",
   "execution_count": 2,
   "metadata": {},
   "outputs": [
    {
     "name": "stdout",
     "output_type": "stream",
     "text": [
      "<class 'pandas.core.frame.DataFrame'>\n",
      "Int64Index: 207917 entries, 178140 to 70763\n",
      "Data columns (total 5 columns):\n",
      "time_stamp    207917 non-null datetime64[ns]\n",
      "user_id       207917 non-null int64\n",
      "visited       207917 non-null int64\n",
      "year          207917 non-null int64\n",
      "week          207917 non-null int64\n",
      "dtypes: datetime64[ns](1), int64(4)\n",
      "memory usage: 9.5 MB\n"
     ]
    },
    {
     "data": {
      "text/plain": [
       "None"
      ]
     },
     "metadata": {},
     "output_type": "display_data"
    },
    {
     "data": {
      "text/html": [
       "<div>\n",
       "<style scoped>\n",
       "    .dataframe tbody tr th:only-of-type {\n",
       "        vertical-align: middle;\n",
       "    }\n",
       "\n",
       "    .dataframe tbody tr th {\n",
       "        vertical-align: top;\n",
       "    }\n",
       "\n",
       "    .dataframe thead th {\n",
       "        text-align: right;\n",
       "    }\n",
       "</style>\n",
       "<table border=\"1\" class=\"dataframe\">\n",
       "  <thead>\n",
       "    <tr style=\"text-align: right;\">\n",
       "      <th></th>\n",
       "      <th>time_stamp</th>\n",
       "      <th>user_id</th>\n",
       "      <th>visited</th>\n",
       "      <th>year</th>\n",
       "      <th>week</th>\n",
       "    </tr>\n",
       "  </thead>\n",
       "  <tbody>\n",
       "    <tr>\n",
       "      <th>178140</th>\n",
       "      <td>2012-05-31 08:20:06</td>\n",
       "      <td>10012</td>\n",
       "      <td>1</td>\n",
       "      <td>2012</td>\n",
       "      <td>22</td>\n",
       "    </tr>\n",
       "    <tr>\n",
       "      <th>59486</th>\n",
       "      <td>2012-05-31 15:47:36</td>\n",
       "      <td>3428</td>\n",
       "      <td>1</td>\n",
       "      <td>2012</td>\n",
       "      <td>22</td>\n",
       "    </tr>\n",
       "    <tr>\n",
       "      <th>175638</th>\n",
       "      <td>2012-05-31 17:19:37</td>\n",
       "      <td>9899</td>\n",
       "      <td>1</td>\n",
       "      <td>2012</td>\n",
       "      <td>22</td>\n",
       "    </tr>\n",
       "    <tr>\n",
       "      <th>26821</th>\n",
       "      <td>2012-05-31 21:58:33</td>\n",
       "      <td>1693</td>\n",
       "      <td>1</td>\n",
       "      <td>2012</td>\n",
       "      <td>22</td>\n",
       "    </tr>\n",
       "    <tr>\n",
       "      <th>109716</th>\n",
       "      <td>2012-06-01 00:17:30</td>\n",
       "      <td>6102</td>\n",
       "      <td>1</td>\n",
       "      <td>2012</td>\n",
       "      <td>22</td>\n",
       "    </tr>\n",
       "  </tbody>\n",
       "</table>\n",
       "</div>"
      ],
      "text/plain": [
       "                time_stamp  user_id  visited  year  week\n",
       "178140 2012-05-31 08:20:06    10012        1  2012    22\n",
       "59486  2012-05-31 15:47:36     3428        1  2012    22\n",
       "175638 2012-05-31 17:19:37     9899        1  2012    22\n",
       "26821  2012-05-31 21:58:33     1693        1  2012    22\n",
       "109716 2012-06-01 00:17:30     6102        1  2012    22"
      ]
     },
     "metadata": {},
     "output_type": "display_data"
    }
   ],
   "source": [
    "time_stamps = pd.read_csv('takehome_user_engagement.csv',parse_dates = ['time_stamp'])\n",
    "time_stamps = time_stamps.sort_values('time_stamp')\n",
    "time_stamps['year'] = time_stamps['time_stamp'].dt.year\n",
    "time_stamps['week'] = time_stamps['time_stamp'].dt.week\n",
    "display(time_stamps.info())\n",
    "display(time_stamps.head())"
   ]
  },
  {
   "cell_type": "markdown",
   "metadata": {},
   "source": [
    "Grouping by the year, then the week and then the user id with an aggregation by count will allow me to see the users who have logged in more than 3 times in any given week. Boolean filtering on visits >= 3 and pulling out a unique list of these users returns all the adopted users."
   ]
  },
  {
   "cell_type": "code",
   "execution_count": 3,
   "metadata": {},
   "outputs": [],
   "source": [
    "\n",
    "logins_per_week = time_stamps.groupby(['year','week','user_id']).count()\n",
    "three_or_more = logins_per_week[logins_per_week.visited >= 3].reset_index()\n",
    "adopted_users = list(three_or_more.user_id.unique())\n"
   ]
  },
  {
   "cell_type": "markdown",
   "metadata": {},
   "source": [
    "Now lets read in the second csv. Had to change the encoding from utf-8, I suspect because of the email address @ symbol. Looking at the dataframe it's clear that several columns need to be cleaned and tinkered with to enable analysis. First we'll make a target column, 1 denoting adopted user. Then we'll change the column invited by user id into a far more simple binary variable that says whether a given user was invited or found the platform themselves (assuming the NaN values in this column are due to not being invited and not some other flaw in data collection). Creation source will have to be pushed to a dummy variable for modeling, which we'll do with pandas get dummies function right before modeling. Finally we'll drop the columns that are useless for predictive modeling, name, email, last session creation and invited by user. Invited by user I thought about keeping for awhile, but it will be mostly populated by users who invited 1 other user who adopted and the inverse of that (users who invited 1 other user who did not adopt). This then becomes not useful in prediction, just adding lots of extra noise. Potentially binning the users into numbers of invites sent could add valuable information. "
   ]
  },
  {
   "cell_type": "code",
   "execution_count": 4,
   "metadata": {},
   "outputs": [
    {
     "data": {
      "text/html": [
       "<div>\n",
       "<style scoped>\n",
       "    .dataframe tbody tr th:only-of-type {\n",
       "        vertical-align: middle;\n",
       "    }\n",
       "\n",
       "    .dataframe tbody tr th {\n",
       "        vertical-align: top;\n",
       "    }\n",
       "\n",
       "    .dataframe thead th {\n",
       "        text-align: right;\n",
       "    }\n",
       "</style>\n",
       "<table border=\"1\" class=\"dataframe\">\n",
       "  <thead>\n",
       "    <tr style=\"text-align: right;\">\n",
       "      <th></th>\n",
       "      <th>creation_source</th>\n",
       "      <th>opted_in_to_mailing_list</th>\n",
       "      <th>enabled_for_marketing_drip</th>\n",
       "      <th>org_id</th>\n",
       "      <th>adopted</th>\n",
       "    </tr>\n",
       "  </thead>\n",
       "  <tbody>\n",
       "    <tr>\n",
       "      <th>0</th>\n",
       "      <td>GUEST_INVITE</td>\n",
       "      <td>1</td>\n",
       "      <td>0</td>\n",
       "      <td>11</td>\n",
       "      <td>0</td>\n",
       "    </tr>\n",
       "    <tr>\n",
       "      <th>1</th>\n",
       "      <td>ORG_INVITE</td>\n",
       "      <td>0</td>\n",
       "      <td>0</td>\n",
       "      <td>1</td>\n",
       "      <td>1</td>\n",
       "    </tr>\n",
       "    <tr>\n",
       "      <th>2</th>\n",
       "      <td>ORG_INVITE</td>\n",
       "      <td>0</td>\n",
       "      <td>0</td>\n",
       "      <td>94</td>\n",
       "      <td>0</td>\n",
       "    </tr>\n",
       "    <tr>\n",
       "      <th>3</th>\n",
       "      <td>GUEST_INVITE</td>\n",
       "      <td>0</td>\n",
       "      <td>0</td>\n",
       "      <td>1</td>\n",
       "      <td>0</td>\n",
       "    </tr>\n",
       "    <tr>\n",
       "      <th>4</th>\n",
       "      <td>GUEST_INVITE</td>\n",
       "      <td>0</td>\n",
       "      <td>0</td>\n",
       "      <td>193</td>\n",
       "      <td>0</td>\n",
       "    </tr>\n",
       "  </tbody>\n",
       "</table>\n",
       "</div>"
      ],
      "text/plain": [
       "  creation_source  opted_in_to_mailing_list  enabled_for_marketing_drip  \\\n",
       "0    GUEST_INVITE                         1                           0   \n",
       "1      ORG_INVITE                         0                           0   \n",
       "2      ORG_INVITE                         0                           0   \n",
       "3    GUEST_INVITE                         0                           0   \n",
       "4    GUEST_INVITE                         0                           0   \n",
       "\n",
       "   org_id  adopted  \n",
       "0      11        0  \n",
       "1       1        1  \n",
       "2      94        0  \n",
       "3       1        0  \n",
       "4     193        0  "
      ]
     },
     "metadata": {},
     "output_type": "display_data"
    },
    {
     "name": "stdout",
     "output_type": "stream",
     "text": [
      "<class 'pandas.core.frame.DataFrame'>\n",
      "RangeIndex: 12000 entries, 0 to 11999\n",
      "Data columns (total 5 columns):\n",
      "creation_source               12000 non-null object\n",
      "opted_in_to_mailing_list      12000 non-null int64\n",
      "enabled_for_marketing_drip    12000 non-null int64\n",
      "org_id                        12000 non-null int64\n",
      "adopted                       12000 non-null int64\n",
      "dtypes: int64(4), object(1)\n",
      "memory usage: 468.8+ KB\n"
     ]
    },
    {
     "data": {
      "text/plain": [
       "None"
      ]
     },
     "metadata": {},
     "output_type": "display_data"
    }
   ],
   "source": [
    "users = pd.read_csv('takehome_users.csv',encoding = \"ISO-8859-1\")\n",
    "users.creation_time = pd.to_datetime(users.creation_time)\n",
    "\n",
    "users['adopted'] = 0\n",
    "users.loc[users['object_id'].isin(adopted_users),'adopted'] = 1\n",
    "\n",
    "users.drop(['name','email','last_session_creation_time','creation_time','invited_by_user_id','object_id'],axis=1,inplace=True)\n",
    "display(users.head())\n",
    "display(users.info())"
   ]
  },
  {
   "cell_type": "code",
   "execution_count": 5,
   "metadata": {},
   "outputs": [
    {
     "data": {
      "image/png": "[encoded data removed]",
      "text/plain": [
       "<Figure size 432x288 with 1 Axes>"
      ]
     },
     "metadata": {
      "needs_background": "light"
     },
     "output_type": "display_data"
    }
   ],
   "source": [
    "creation = pd.DataFrame(users[['creation_source','adopted']].groupby(['creation_source']).mean())\n",
    "creation['Overall Adopted Mean'] = 0.12\n",
    "creation.rename({'adopted':'Adopted Mean'},axis=1,inplace=True)\n",
    "axis = ['Guest','Org','Personal','Project','Google']\n",
    "creation.index = axis\n",
    "creation.plot.bar(title = 'Adopted Percentage by Creation Source',rot=1)\n",
    "plt.xlabel('Creation Source')\n",
    "plt.ylabel('Mean')\n",
    "plt.yticks([0.0,0.10,0.20])\n",
    "plt.show()"
   ]
  },
  {
   "cell_type": "code",
   "execution_count": 6,
   "metadata": {},
   "outputs": [
    {
     "data": {
      "text/html": [
       "<div>\n",
       "<style scoped>\n",
       "    .dataframe tbody tr th:only-of-type {\n",
       "        vertical-align: middle;\n",
       "    }\n",
       "\n",
       "    .dataframe tbody tr th {\n",
       "        vertical-align: top;\n",
       "    }\n",
       "\n",
       "    .dataframe thead th {\n",
       "        text-align: right;\n",
       "    }\n",
       "</style>\n",
       "<table border=\"1\" class=\"dataframe\">\n",
       "  <thead>\n",
       "    <tr style=\"text-align: right;\">\n",
       "      <th></th>\n",
       "      <th>adopted</th>\n",
       "    </tr>\n",
       "    <tr>\n",
       "      <th>org_id</th>\n",
       "      <th></th>\n",
       "    </tr>\n",
       "  </thead>\n",
       "  <tbody>\n",
       "    <tr>\n",
       "      <th>387</th>\n",
       "      <td>0.500000</td>\n",
       "    </tr>\n",
       "    <tr>\n",
       "      <th>235</th>\n",
       "      <td>0.461538</td>\n",
       "    </tr>\n",
       "    <tr>\n",
       "      <th>270</th>\n",
       "      <td>0.428571</td>\n",
       "    </tr>\n",
       "    <tr>\n",
       "      <th>399</th>\n",
       "      <td>0.384615</td>\n",
       "    </tr>\n",
       "    <tr>\n",
       "      <th>415</th>\n",
       "      <td>0.375000</td>\n",
       "    </tr>\n",
       "    <tr>\n",
       "      <th>400</th>\n",
       "      <td>0.375000</td>\n",
       "    </tr>\n",
       "    <tr>\n",
       "      <th>345</th>\n",
       "      <td>0.357143</td>\n",
       "    </tr>\n",
       "    <tr>\n",
       "      <th>318</th>\n",
       "      <td>0.352941</td>\n",
       "    </tr>\n",
       "    <tr>\n",
       "      <th>161</th>\n",
       "      <td>0.333333</td>\n",
       "    </tr>\n",
       "    <tr>\n",
       "      <th>281</th>\n",
       "      <td>0.333333</td>\n",
       "    </tr>\n",
       "  </tbody>\n",
       "</table>\n",
       "</div>"
      ],
      "text/plain": [
       "         adopted\n",
       "org_id          \n",
       "387     0.500000\n",
       "235     0.461538\n",
       "270     0.428571\n",
       "399     0.384615\n",
       "415     0.375000\n",
       "400     0.375000\n",
       "345     0.357143\n",
       "318     0.352941\n",
       "161     0.333333\n",
       "281     0.333333"
      ]
     },
     "metadata": {},
     "output_type": "display_data"
    }
   ],
   "source": [
    "org_adoption = pd.DataFrame(users[['org_id','adopted']].groupby('org_id').mean().sort_values(by='adopted',ascending=False))\n",
    "display(org_adoption[0:10])\n",
    "org_adoption.reset_index(inplace=True)\n",
    "cut = pd.cut(org_adoption['org_id'], bins = 3,labels = ['0','1','2'])\n",
    "cut_dict = cut.to_dict()\n",
    "users['org_id'] = users['org_id'].map(cut_dict)"
   ]
  },
  {
   "cell_type": "code",
   "execution_count": 7,
   "metadata": {},
   "outputs": [],
   "source": [
    "from sklearn.linear_model import LogisticRegression\n",
    "from sklearn.ensemble import RandomForestClassifier\n",
    "from sklearn import metrics\n",
    "from sklearn.model_selection import train_test_split\n",
    "from sklearn.model_selection import GridSearchCV\n",
    "from imblearn.over_sampling import SMOTE"
   ]
  },
  {
   "cell_type": "code",
   "execution_count": 9,
   "metadata": {},
   "outputs": [],
   "source": [
    "users_dummies = pd.get_dummies(users)\n",
    "X = users_dummies.drop('adopted',axis =1 )\n",
    "y = users_dummies['adopted']\n",
    "X_train, X_test, y_train, y_test = train_test_split(X,y,test_size = 0.25)"
   ]
  },
  {
   "cell_type": "markdown",
   "metadata": {},
   "source": [
    "First we have to get dummy variables for our feature creation source. Then we can set a training and testing set. Because of the large class imbalance I decided to use an oversampling method on the positive class (adopted the platform). This method is called SMOTE or synthetic minority oversampling technique. This uses the k-nearest neighbors algorithm to create new instances of the the positive class that are slightly tweaked from original observations. The primary worry here is overfitting to the training set if I only oversample on the training set, or leakage of information into my testing set if I resample the whole data set. I only oversampled on the training set, we'll see if this has an effect on ovefitting of the model. \n",
    "\n",
    "Running a grid search CV with 5 folds returned the optimal parameters you see below. The ROC curve and AUC score are reproduced below. This RF model has an AUC of 0.61 for the positive class. Not terrible given the rarity of the class.\n",
    "\n",
    "I also looked at an SVM model and a logisitic regression without much success."
   ]
  },
  {
   "cell_type": "code",
   "execution_count": 10,
   "metadata": {},
   "outputs": [
    {
     "data": {
      "image/png": "[encoded data removed]",
      "text/plain": [
       "<Figure size 432x288 with 1 Axes>"
      ]
     },
     "metadata": {
      "needs_background": "light"
     },
     "output_type": "display_data"
    },
    {
     "name": "stdout",
     "output_type": "stream",
     "text": [
      "0.6094481007118245\n"
     ]
    }
   ],
   "source": [
    "#params = {'n_estimators': [1,2,4,8,16,32,64,128],'max_depth':np.linspace(1,15)}\n",
    "#cv = GridSearchCV(estimator = RandomForestClassifier(),scoring = 'roc_auc', param_grid = params, cv = 5)\n",
    "#cv.fit(X_train,y_train)\n",
    "smote = SMOTE()\n",
    "X_train, y_train = smote.fit_resample(X_train,y_train)\n",
    "rf = RandomForestClassifier(n_estimators=32,max_depth=5)\n",
    "rf.fit(X_train,y_train)\n",
    "y_prob = rf.predict_proba(X_train)\n",
    "fpr, tpr, thresholds  = metrics.roc_curve(y_train, y_prob[:,1])\n",
    "plt.plot([0,1], [0,1], 'k--')\n",
    "plt.plot(fpr, tpr, label='Random Forest')\n",
    "plt.xlabel('False Positive Rate')\n",
    "plt.ylabel('True Positive Rate')\n",
    "plt.title('%s ROC Curve Random Forest')\n",
    "plt.show()\n",
    "print(metrics.roc_auc_score(y_train,y_prob[:,1]))"
   ]
  },
  {
   "cell_type": "code",
   "execution_count": 12,
   "metadata": {},
   "outputs": [
    {
     "name": "stdout",
     "output_type": "stream",
     "text": [
      "              precision    recall  f1-score   support\n",
      "\n",
      "           0       0.90      0.49      0.64      2624\n",
      "           1       0.15      0.60      0.23       376\n",
      "\n",
      "   micro avg       0.51      0.51      0.51      3000\n",
      "   macro avg       0.52      0.55      0.44      3000\n",
      "weighted avg       0.80      0.51      0.59      3000\n",
      "\n"
     ]
    },
    {
     "data": {
      "text/html": [
       "<div>\n",
       "<style scoped>\n",
       "    .dataframe tbody tr th:only-of-type {\n",
       "        vertical-align: middle;\n",
       "    }\n",
       "\n",
       "    .dataframe tbody tr th {\n",
       "        vertical-align: top;\n",
       "    }\n",
       "\n",
       "    .dataframe thead th {\n",
       "        text-align: right;\n",
       "    }\n",
       "</style>\n",
       "<table border=\"1\" class=\"dataframe\">\n",
       "  <thead>\n",
       "    <tr style=\"text-align: right;\">\n",
       "      <th>Predicted</th>\n",
       "      <th>0</th>\n",
       "      <th>1</th>\n",
       "      <th>All</th>\n",
       "    </tr>\n",
       "    <tr>\n",
       "      <th>True</th>\n",
       "      <th></th>\n",
       "      <th></th>\n",
       "      <th></th>\n",
       "    </tr>\n",
       "  </thead>\n",
       "  <tbody>\n",
       "    <tr>\n",
       "      <th>0</th>\n",
       "      <td>298</td>\n",
       "      <td>361</td>\n",
       "      <td>659</td>\n",
       "    </tr>\n",
       "    <tr>\n",
       "      <th>1</th>\n",
       "      <td>37</td>\n",
       "      <td>53</td>\n",
       "      <td>90</td>\n",
       "    </tr>\n",
       "    <tr>\n",
       "      <th>All</th>\n",
       "      <td>335</td>\n",
       "      <td>414</td>\n",
       "      <td>749</td>\n",
       "    </tr>\n",
       "  </tbody>\n",
       "</table>\n",
       "</div>"
      ],
      "text/plain": [
       "Predicted    0    1  All\n",
       "True                    \n",
       "0          298  361  659\n",
       "1           37   53   90\n",
       "All        335  414  749"
      ]
     },
     "execution_count": 12,
     "metadata": {},
     "output_type": "execute_result"
    }
   ],
   "source": [
    "print(metrics.classification_report(y_test,rf.predict(X_test)))\n",
    "y_true = pd.Series(y_test)\n",
    "y_pred = pd.Series(rf.predict(X_test))\n",
    "\n",
    "pd.crosstab(y_true, y_pred, rownames=['True'], colnames=['Predicted'], margins=True)"
   ]
  },
  {
   "cell_type": "code",
   "execution_count": 30,
   "metadata": {},
   "outputs": [
    {
     "data": {
      "text/html": [
       "<div>\n",
       "<style scoped>\n",
       "    .dataframe tbody tr th:only-of-type {\n",
       "        vertical-align: middle;\n",
       "    }\n",
       "\n",
       "    .dataframe tbody tr th {\n",
       "        vertical-align: top;\n",
       "    }\n",
       "\n",
       "    .dataframe thead th {\n",
       "        text-align: right;\n",
       "    }\n",
       "</style>\n",
       "<table border=\"1\" class=\"dataframe\">\n",
       "  <thead>\n",
       "    <tr style=\"text-align: right;\">\n",
       "      <th></th>\n",
       "      <th>Features</th>\n",
       "      <th>Importance</th>\n",
       "    </tr>\n",
       "  </thead>\n",
       "  <tbody>\n",
       "    <tr>\n",
       "      <th>4</th>\n",
       "      <td>creation_source_PERSONAL_PROJECTS</td>\n",
       "      <td>0.397660</td>\n",
       "    </tr>\n",
       "    <tr>\n",
       "      <th>1</th>\n",
       "      <td>enabled_for_marketing_drip</td>\n",
       "      <td>0.117315</td>\n",
       "    </tr>\n",
       "    <tr>\n",
       "      <th>0</th>\n",
       "      <td>opted_in_to_mailing_list</td>\n",
       "      <td>0.094401</td>\n",
       "    </tr>\n",
       "    <tr>\n",
       "      <th>7</th>\n",
       "      <td>org_id_0</td>\n",
       "      <td>0.084178</td>\n",
       "    </tr>\n",
       "    <tr>\n",
       "      <th>2</th>\n",
       "      <td>creation_source_GUEST_INVITE</td>\n",
       "      <td>0.069434</td>\n",
       "    </tr>\n",
       "    <tr>\n",
       "      <th>3</th>\n",
       "      <td>creation_source_ORG_INVITE</td>\n",
       "      <td>0.051203</td>\n",
       "    </tr>\n",
       "    <tr>\n",
       "      <th>6</th>\n",
       "      <td>creation_source_SIGNUP_GOOGLE_AUTH</td>\n",
       "      <td>0.050785</td>\n",
       "    </tr>\n",
       "    <tr>\n",
       "      <th>9</th>\n",
       "      <td>org_id_2</td>\n",
       "      <td>0.050704</td>\n",
       "    </tr>\n",
       "    <tr>\n",
       "      <th>5</th>\n",
       "      <td>creation_source_SIGNUP</td>\n",
       "      <td>0.046101</td>\n",
       "    </tr>\n",
       "    <tr>\n",
       "      <th>8</th>\n",
       "      <td>org_id_1</td>\n",
       "      <td>0.038220</td>\n",
       "    </tr>\n",
       "  </tbody>\n",
       "</table>\n",
       "</div>"
      ],
      "text/plain": [
       "                             Features  Importance\n",
       "4   creation_source_PERSONAL_PROJECTS    0.397660\n",
       "1          enabled_for_marketing_drip    0.117315\n",
       "0            opted_in_to_mailing_list    0.094401\n",
       "7                            org_id_0    0.084178\n",
       "2        creation_source_GUEST_INVITE    0.069434\n",
       "3          creation_source_ORG_INVITE    0.051203\n",
       "6  creation_source_SIGNUP_GOOGLE_AUTH    0.050785\n",
       "9                            org_id_2    0.050704\n",
       "5              creation_source_SIGNUP    0.046101\n",
       "8                            org_id_1    0.038220"
      ]
     },
     "execution_count": 30,
     "metadata": {},
     "output_type": "execute_result"
    }
   ],
   "source": [
    "pd.DataFrame({'Features': X.columns, 'Importance': rf.feature_importances_}).sort_values('Importance',ascending=False)\n",
    "display()"
   ]
  },
  {
   "cell_type": "code",
   "execution_count": 34,
   "metadata": {},
   "outputs": [
    {
     "data": {
      "text/plain": [
       "-0.07266856230705579"
      ]
     },
     "metadata": {},
     "output_type": "display_data"
    },
    {
     "data": {
      "text/plain": [
       "0.006009708561776501"
      ]
     },
     "metadata": {},
     "output_type": "display_data"
    },
    {
     "data": {
      "text/plain": [
       "0.01048983897460246"
      ]
     },
     "metadata": {},
     "output_type": "display_data"
    }
   ],
   "source": [
    "display(users_dummies.creation_source_PERSONAL_PROJECTS.corr(users.adopted))\n",
    "display(users.enabled_for_marketing_drip.corr(users.adopted))\n",
    "display(users.opted_in_to_mailing_list.corr(users.adopted))"
   ]
  },
  {
   "cell_type": "markdown",
   "metadata": {},
   "source": [
    "I've also looked at a confusion matrix to see where the model goes wrong and a listing of feature importances. Unsurprisingly, users who signed up for personal projects are the best predictor of adopting the platform. We saw this above, only a small percentage of users who join for personal reasons stick around. After that we have enabled for marketing drip with slightly positively predicts adoption and opted into mailing list which does as well. Given this information, it might make sense to target the individuals who signed up for a personal project and see if we can get them signed up on the marketing drip, or associated with an organization!"
   ]
  }
 ],
 "metadata": {
  "kernelspec": {
   "display_name": "Python 3",
   "language": "python",
   "name": "python3"
  },
  "language_info": {
   "codemirror_mode": {
    "name": "ipython",
    "version": 3
   },
   "file_extension": ".py",
   "mimetype": "text/x-python",
   "name": "python",
   "nbconvert_exporter": "python",
   "pygments_lexer": "ipython3",
   "version": "3.7.3"
  }
 },
 "nbformat": 4,
 "nbformat_minor": 2
}
