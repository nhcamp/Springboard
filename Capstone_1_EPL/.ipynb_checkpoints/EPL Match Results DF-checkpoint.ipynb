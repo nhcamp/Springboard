{
 "cells": [
  {
   "cell_type": "code",
   "execution_count": 383,
   "metadata": {},
   "outputs": [],
   "source": [
    "import pandas as pd\n",
    "import numpy as np\n",
    "from numpy import random \n",
    "import matplotlib.pyplot as plt\n",
    "from scipy import stats\n",
    "from sklearn.linear_model import LinearRegression\n",
    "from sklearn.linear_model import LogisticRegression\n",
    "from sklearn.model_selection import train_test_split\n",
    "from sklearn.ensemble import RandomForestRegressor"
   ]
  },
  {
   "cell_type": "code",
   "execution_count": 276,
   "metadata": {},
   "outputs": [
    {
     "name": "stdout",
     "output_type": "stream",
     "text": [
      "        Date          HomeTeam        AwayTeam  FTHG  FTAG FTR   Season randomResult\n",
      "0 1993-08-14           Arsenal        Coventry     0     3   A  1993-94            A\n",
      "1 1993-08-14       Aston Villa             QPR     4     1   H  1993-94            A\n",
      "2 1993-08-14           Chelsea       Blackburn     1     2   A  1993-94            D\n",
      "3 1993-08-14         Liverpool  Sheffield Weds     2     0   H  1993-94            A\n",
      "4 1993-08-14          Man City           Leeds     1     1   D  1993-94            D\n",
      "5 1993-08-14         Newcastle       Tottenham     0     1   A  1993-94            A\n",
      "6 1993-08-14            Oldham         Ipswich     0     3   A  1993-94            D\n",
      "7 1993-08-14  Sheffield United         Swindon     3     1   H  1993-94            A\n",
      "8 1993-08-14       Southampton         Everton     0     2   A  1993-94            H\n",
      "9 1993-08-14          West Ham       Wimbledon     0     2   A  1993-94            A\n"
     ]
    }
   ],
   "source": [
    "#Loading in a dataframe of match results and season results and cleaning columns\n",
    "original_df = pd.read_csv('EPL_Match_Results.csv')\n",
    "original_df = original_df[['Date','HomeTeam','AwayTeam','FTHG','FTAG','FTR','Season']]\n",
    "original_df['Date'] = pd.to_datetime(original_df['Date'],dayfirst=True)\n",
    "#Adding random results with a random integer and changing all the 2's to 3's\n",
    "original_df['randomResult'] = np.random.randint(0,3,len(original_df))\n",
    "\n",
    "away_win = original_df['randomResult'] == 0\n",
    "draw = original_df['randomResult'] == 1\n",
    "home_win = original_df['randomResult'] == 2\n",
    "                  \n",
    "original_df.loc[home_win,'randomResult'] = 'H'\n",
    "original_df.loc[draw, 'randomResult'] = 'D'\n",
    "original_df.loc[away_win, 'randomResult'] = 'A'\n",
    "\n",
    "seasons = pd.read_csv('seasons_result.csv',index_col= 'year')\n",
    "seasons = seasons.loc['2016/2017':'1993/1994'][['Team','W','L','D','F','A','Pts','Pos']]\n",
    "seasons = seasons.reset_index()\n",
    "seasons['year'] = seasons['year'].str.slice_replace(4,7,'-')\n",
    "seasons['Team'] = (seasons['Team'].str.replace('Manchester United', 'Man United'))\n",
    "seasons['Team'] = (seasons['Team'].str.replace('Manchester City', 'Man City'))\n",
    "seasons['Team'] = seasons['Team'].str.replace('Tottoneham Hotspurs', 'Tottenham')\n",
    "seasons = seasons.set_index('year')\n",
    "\n",
    "team_list = []\n",
    "team_list = original_df.HomeTeam.unique()\n",
    "pd.set_option('display.max_columns', 10)\n",
    "pd.set_option('display.width', 1000)\n",
    "print(original_df.head(10))"
   ]
  },
  {
   "cell_type": "markdown",
   "metadata": {},
   "source": [
    "The following cell turns the dataframe I originally loaded into the format I need for analyzing matches. I had to copy the original and make new columns for both so that when I concatenated them together I could have all of a team's games represented in order by season."
   ]
  },
  {
   "cell_type": "code",
   "execution_count": 397,
   "metadata": {},
   "outputs": [
    {
     "name": "stdout",
     "output_type": "stream",
     "text": [
      "                                  HomeTeam  AwayTeam  FTHG  FTAG FTR randomResult        opponent  Points  Random Points\n",
      "Season  team    Date                                                                                                    \n",
      "1993-94 Arsenal 1993-08-14         Arsenal  Coventry     0     3   A            A        Coventry     0.0            0.0\n",
      "                1993-08-16       Tottenham   Arsenal     0     1   A            D       Tottenham     3.0            1.0\n",
      "                1993-08-21  Sheffield Weds   Arsenal     0     1   A            D  Sheffield Weds     3.0            1.0\n",
      "                1993-08-24         Arsenal     Leeds     2     1   H            A           Leeds     3.0            0.0\n",
      "                1993-08-28         Arsenal   Everton     2     0   H            A         Everton     3.0            0.0\n"
     ]
    }
   ],
   "source": [
    "original_df1 = original_df.copy()\n",
    "original_df1['team'] = original_df1['HomeTeam']\n",
    "original_df1['opponent'] = original_df1['AwayTeam']\n",
    "original_df['team'] = original_df1['AwayTeam']\n",
    "original_df['opponent'] = original_df1['HomeTeam']\n",
    "double_df = pd.concat([original_df,original_df1])\n",
    "double_df = results_and_points(double_df, team_list)\n",
    "double_df.set_index(['Season','team','Date'], inplace=True)\n",
    "double_df.sort_index(inplace=True, level = [0,1,2])\n",
    "print(double_df.head())"
   ]
  },
  {
   "cell_type": "code",
   "execution_count": 3,
   "metadata": {},
   "outputs": [],
   "source": [
    "##function to filter a team's results by w/d/l and add the points to the df\n",
    "def results_and_points(df, team_list):\n",
    "    for team in team_list:    \n",
    "        real_win = ((df['team'] == team) & (df['HomeTeam'] == team) & (df['FTR'] =='H')) |((df['team'] == team) & (df['AwayTeam'] ==team) & (df['FTR'] =='A'))\n",
    "        real_tie = ((df['team'] == team) & (df['HomeTeam'] == team) & (df['FTR'] =='D')) |((df['team'] == team) & (df['AwayTeam'] ==team) & (df['FTR'] =='D'))\n",
    "        real_loss = ((df['team'] == team) & (df['HomeTeam'] == team) & (df['FTR'] =='A')) |((df['team'] == team) & (df['AwayTeam'] ==team) & (df['FTR'] =='H'))\n",
    "        random_win = ((df['team'] == team) & (df['HomeTeam'] == team) & (df['randomResult'] =='H')) |((df['team'] == team) & (df['AwayTeam'] ==team) & (df['randomResult'] =='A'))\n",
    "        random_tie = ((df['team'] == team) & (df['HomeTeam'] == team) & (df['randomResult'] =='D')) |((df['team'] == team) & (df['AwayTeam'] ==team) & (df['randomResult'] =='D'))\n",
    "        random_loss = ((df['team'] == team) & (df['HomeTeam'] == team) & (df['randomResult'] =='A')) |((df['team'] == team) & (df['AwayTeam'] ==team) & (df['randomResult'] =='H'))\n",
    "        df.loc[real_win,'Points']=3\n",
    "        df.loc[real_tie,'Points']=1\n",
    "        df.loc[real_loss, 'Points']=0\n",
    "        df.loc[random_win, 'Random Points'] = 3\n",
    "        df.loc[random_tie, 'Random Points'] = 1\n",
    "        df.loc[random_loss, 'Random Points'] = 0\n",
    "    return df\n",
    "    "
   ]
  },
  {
   "cell_type": "code",
   "execution_count": 8,
   "metadata": {},
   "outputs": [],
   "source": [
    "def season_and_teams(season,dataframe):\n",
    "    ## Funtion that takes a season slice from original_df and applies results_and_points to every team from that season. \n",
    "    ## Returns a dictionary\n",
    "    season_slice = dataframe.loc[dataframe['Season']==season]\n",
    "    unique_teams = sorted(season_slice.HomeTeam.unique())\n",
    "    dict_title={}\n",
    "    for team in unique_teams:\n",
    "        dict_title[team] = results_and_points(season_slice,team)\n",
    "    return dict_title"
   ]
  },
  {
   "cell_type": "markdown",
   "metadata": {},
   "source": [
    "The function cumulative_points takes the matches dataframe and a single season as input and returns a line plot of the top, bottom and 10th place team's cumulative real and cumulative randomized points for comparison. "
   ]
  },
  {
   "cell_type": "code",
   "execution_count": 7,
   "metadata": {},
   "outputs": [],
   "source": [
    "def cumulative_points(df,season):\n",
    "    team_list = df.loc[season]['HomeTeam'].unique()\n",
    "    most_least_list = []\n",
    "    most_least_dict = {}\n",
    "    for team in team_list:\n",
    "        last_year = df.loc[(season,team)]\n",
    "        most_least_list.append(last_year['Points'].sum())\n",
    "        most_least_dict[last_year['Points'].sum()] = team\n",
    "    most_least_list = sorted(most_least_list)\n",
    "    best_team = df.loc[(season,most_least_dict[most_least_list[-1]])]\n",
    "    mid_team = df.loc[(season,most_least_dict[most_least_list[9]])]\n",
    "    worst_team = df.loc[(season,most_least_dict[most_least_list[0]])]\n",
    "    best_team = best_team.reset_index(drop=True)\n",
    "    mid_team = mid_team.reset_index(drop=True)\n",
    "    worst_team = worst_team.reset_index(drop=True)\n",
    "    best_cum_points = best_team['Points'].cumsum()\n",
    "    best_cum_randoms = best_team['Random Points'].cumsum()\n",
    "    mid_cum_points = mid_team['Points'].cumsum()\n",
    "    mid_cum_randoms = mid_team['Random Points'].cumsum()\n",
    "    worst_cum_points = worst_team['Points'].cumsum()\n",
    "    worst_cum_randoms = worst_team['Random Points'].cumsum()\n",
    "    best_cum_points.plot(color='blue',label='Top Team Real Results')\n",
    "    best_cum_randoms.plot(color='red',label='Top Team Random Results')\n",
    "    mid_cum_points.plot(color='green', label = 'Mid Table Team Real Results')\n",
    "    mid_cum_randoms.plot(color='yellow', label='Mid Table Team Random Results')\n",
    "    worst_cum_points.plot(color='brown',label='Bottom Team Real Results')\n",
    "    worst_cum_randoms.plot(color='black',label='Bottom Team Random Results')\n",
    "    plt.xlabel('Games')\n",
    "    plt.ylabel('Points')\n",
    "    plt.title(\"Point Total from \" + season + ': Expected vs. Actual')\n",
    "    plt.legend(loc='upper left')\n",
    "    plt.tight_layout()\n",
    "    plt.show()"
   ]
  },
  {
   "cell_type": "markdown",
   "metadata": {},
   "source": [
    "The function below produces a bar plot of every team's mean PPG home and away for a given season. "
   ]
  },
  {
   "cell_type": "code",
   "execution_count": 11,
   "metadata": {},
   "outputs": [],
   "source": [
    "def home_away_points(df, season):\n",
    "    team_list = df.loc[season]['HomeTeam'].unique()\n",
    "    home_points= []\n",
    "    away_points = []\n",
    "    for team in team_list:\n",
    "        team_df = df.loc[(season,team)]\n",
    "        home = team_df['HomeTeam'] == team\n",
    "        away = team_df['AwayTeam'] == team\n",
    "        home_points.append(team_df.loc[home,'Points'].mean().round(2))\n",
    "        away_points.append(team_df.loc[away, 'Points'].mean().round(2))\n",
    "    dataframe = pd.DataFrame({'Teams':team_list,'Mean Home Points':home_points,'Mean Away Points' : away_points})\n",
    "    dataframe.set_index('Teams', inplace=True)\n",
    "    dataframe.plot(kind='Bar',title='Mean Home and Away Points in ' + season)"
   ]
  },
  {
   "cell_type": "code",
   "execution_count": 430,
   "metadata": {},
   "outputs": [],
   "source": [
    "def all_time_win_ratio(df):\n",
    "    team_list = df.HomeTeam.unique()\n",
    "    all_time_ratio = {}\n",
    "    for team in team_list:\n",
    "        all_games = df.loc[(slice(None),team),:]\n",
    "        win_ratio = len(all_games[all_games['Points'] == 3])/len(all_games)\n",
    "        all_time_ratio[team] = win_ratio\n",
    "    print (all_time_ratio)"
   ]
  },
  {
   "cell_type": "code",
   "execution_count": 377,
   "metadata": {},
   "outputs": [
    {
     "name": "stdout",
     "output_type": "stream",
     "text": [
      "7.426523757865245 2.466284294024182e-13\n"
     ]
    }
   ],
   "source": [
    "# Two sample ttest for difference in mean points home and away across all seasons. Statistically significant.\n",
    "arsenal = double_df.loc[(slice(None),'Arsenal'),:]\n",
    "home = arsenal['HomeTeam'] == 'Arsenal'\n",
    "away = arsenal['AwayTeam'] == 'Arsenal'\n",
    "x = arsenal[home]['Points']\n",
    "y = arsenal[away]['Points']\n",
    "t,p = stats.ttest_ind(x,y)\n",
    "print(t,p)\n"
   ]
  },
  {
   "cell_type": "code",
   "execution_count": 297,
   "metadata": {},
   "outputs": [
    {
     "name": "stdout",
     "output_type": "stream",
     "text": [
      "['Man United', 'Chelsea', 'Man City'] {'Man City': 6.0}\n"
     ]
    }
   ],
   "source": [
    "bottom_teams = seasons[(seasons['Pos'] == 15) | (seasons['Pos'] == 16) | (seasons['Pos'] == 17 )]\n",
    "top_teams = seasons[(seasons['Pos'] == 1) | (seasons['Pos'] == 2) | (seasons['Pos'] == 3 )]\n",
    "top = list(top_teams.loc['2010-11']['Team'])\n",
    "bottom = list(bottom_teams.loc['2010-11']['Team'])\n",
    "for team in top:\n",
    "    idx = pd.IndexSlice\n",
    "    points_collected = []\n",
    "    points_against_bottom = {}\n",
    "    team_games = double_df.loc[idx['2011-12',team],:]\n",
    "    points_collected.append(team_games[team_games['opponent'] == bottom[0]]['Points'].sum())\n",
    "    points_collected.append(team_games[team_games['opponent'] == bottom[1]]['Points'].sum())\n",
    "    points_collected.append(team_games[team_games['opponent'] == bottom[2]]['Points'].sum())\n",
    "    points_against_bottom[team] = np.sum(points_collected)\n",
    "\n",
    "print(top, points_against_bottom)"
   ]
  },
  {
   "cell_type": "code",
   "execution_count": 371,
   "metadata": {},
   "outputs": [
    {
     "name": "stdout",
     "output_type": "stream",
     "text": [
      "Train score is:  0.6225626740947076\n",
      "Test score is:  0.575\n"
     ]
    },
    {
     "name": "stderr",
     "output_type": "stream",
     "text": [
      "C:\\Users\\nhcam\\Miniconda2\\envs\\py36\\lib\\site-packages\\sklearn\\linear_model\\logistic.py:460: FutureWarning: Default multi_class will be changed to 'auto' in 0.22. Specify the multi_class option to silence this warning.\n",
      "  \"this warning.\", FutureWarning)\n"
     ]
    }
   ],
   "source": [
    "arsenal_model = arsenal.drop(['HomeTeam','AwayTeam', 'Random Points','randomResult','FTR'],axis=1)\n",
    "model_df = pd.get_dummies(arsenal_model, prefix = ['opp'], columns = ['opponent'])\n",
    "x = model_df.drop(['Points'], axis=1)\n",
    "y = model_df['Points']\n",
    "x_train,x_test,y_train,y_test = train_test_split(x,y)\n",
    "logreg = LogisticRegression(solver = 'lbfgs')\n",
    "logreg.fit(x_train,y_train)\n",
    "train_score = logreg.score(x_train, y_train)\n",
    "test_score = logreg.score(x_test, y_test)\n",
    "print('Train score is: ', train_score)\n",
    "print('Test score is: ', test_score)"
   ]
  },
  {
   "cell_type": "code",
   "execution_count": 372,
   "metadata": {},
   "outputs": [
    {
     "name": "stdout",
     "output_type": "stream",
     "text": [
      "Train score is:  0.6810584958217271\n",
      "Test score is:  0.6166666666666667\n"
     ]
    },
    {
     "name": "stderr",
     "output_type": "stream",
     "text": [
      "C:\\Users\\nhcam\\Miniconda2\\envs\\py36\\lib\\site-packages\\ipykernel_launcher.py:1: SettingWithCopyWarning: \n",
      "A value is trying to be set on a copy of a slice from a DataFrame.\n",
      "Try using .loc[row_indexer,col_indexer] = value instead\n",
      "\n",
      "See the caveats in the documentation: http://pandas.pydata.org/pandas-docs/stable/indexing.html#indexing-view-versus-copy\n",
      "  \"\"\"Entry point for launching an IPython kernel.\n",
      "C:\\Users\\nhcam\\Miniconda2\\envs\\py36\\lib\\site-packages\\pandas\\core\\indexing.py:543: SettingWithCopyWarning: \n",
      "A value is trying to be set on a copy of a slice from a DataFrame.\n",
      "Try using .loc[row_indexer,col_indexer] = value instead\n",
      "\n",
      "See the caveats in the documentation: http://pandas.pydata.org/pandas-docs/stable/indexing.html#indexing-view-versus-copy\n",
      "  self.obj[item] = s\n",
      "C:\\Users\\nhcam\\Miniconda2\\envs\\py36\\lib\\site-packages\\sklearn\\linear_model\\logistic.py:460: FutureWarning: Default multi_class will be changed to 'auto' in 0.22. Specify the multi_class option to silence this warning.\n",
      "  \"this warning.\", FutureWarning)\n"
     ]
    }
   ],
   "source": [
    "arsenal['Home/Away'] = 1\n",
    "arsenal.loc[arsenal['AwayTeam'] == 'Arsenal', 'Home/Away'] = 0\n",
    "arsenal_model1 = arsenal.drop(['HomeTeam','AwayTeam', 'Random Points','randomResult','FTR'], axis=1)\n",
    "model_df1 = pd.get_dummies(arsenal_model1, prefix = ['opp'], columns = ['opponent'])\n",
    "x1 = model_df1.drop(['Points'], axis=1)\n",
    "y1 = model_df1['Points']\n",
    "x_train1,x_test1,y_train1,y_test1 = train_test_split(x1,y1)\n",
    "logreg1 = LogisticRegression(solver = 'lbfgs')\n",
    "logreg1.fit(x_train1,y_train1)\n",
    "train_score1 = logreg1.score(x_train1, y_train1)\n",
    "test_score1 = logreg1.score(x_test1, y_test1)\n",
    "print('Train score is: ', train_score1)\n",
    "print('Test score is: ', test_score1)"
   ]
  },
  {
   "cell_type": "code",
   "execution_count": 380,
   "metadata": {},
   "outputs": [],
   "source": [
    "def fit_model(dataframe,team_list):\n",
    "    for team in team_list:\n",
    "        team_games = dataframe.loc[(slice(None),team),:]\n",
    "        team_games['Home/Away'] = 1\n",
    "        team_games.loc[team_games['AwayTeam'] == team, 'Home/Away'] = 0\n",
    "        columns_interest = team_games.drop(['HomeTeam','AwayTeam', 'Random Points','randomResult','FTR'], axis=1)\n",
    "        model = pd.get_dummies(columns_interest, prefix = ['opp'], columns = ['opponent'])\n",
    "        x = columns_interest.drop(['Points'], axis=1)\n",
    "        y = columns_interest['Points']\n",
    "        logreg1.fit(x,y)"
   ]
  },
  {
   "cell_type": "code",
   "execution_count": 384,
   "metadata": {},
   "outputs": [
    {
     "data": {
      "text/plain": [
       "RandomForestRegressor(bootstrap=True, criterion='mse', max_depth=25,\n",
       "           max_features='auto', max_leaf_nodes=None,\n",
       "           min_impurity_decrease=0.0, min_impurity_split=None,\n",
       "           min_samples_leaf=1, min_samples_split=15,\n",
       "           min_weight_fraction_leaf=0.0, n_estimators=1000, n_jobs=None,\n",
       "           oob_score=False, random_state=1, verbose=0, warm_start=False)"
      ]
     },
     "execution_count": 384,
     "metadata": {},
     "output_type": "execute_result"
    }
   ],
   "source": [
    "forest = RandomForestRegressor(max_depth=25, min_samples_split=15,n_estimators=1000,random_state=1)\n",
    "forest.fit(x_train1, y_train1)"
   ]
  },
  {
   "cell_type": "code",
   "execution_count": null,
   "metadata": {},
   "outputs": [],
   "source": []
  }
 ],
 "metadata": {
  "kernelspec": {
   "display_name": "Python 3",
   "language": "python",
   "name": "python3"
  },
  "language_info": {
   "codemirror_mode": {
    "name": "ipython",
    "version": 3
   },
   "file_extension": ".py",
   "mimetype": "text/x-python",
   "name": "python",
   "nbconvert_exporter": "python",
   "pygments_lexer": "ipython3",
   "version": "3.6.7"
  }
 },
 "nbformat": 4,
 "nbformat_minor": 2
}
