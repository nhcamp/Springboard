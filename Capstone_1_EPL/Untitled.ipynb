{
 "cells": [
  {
   "cell_type": "code",
   "execution_count": 2,
   "metadata": {},
   "outputs": [],
   "source": [
    "import pandas as pd"
   ]
  },
  {
   "cell_type": "code",
   "execution_count": 39,
   "metadata": {},
   "outputs": [
    {
     "name": "stdout",
     "output_type": "stream",
     "text": [
      "        year                  Team   W   L   D   F    A  Pts  Pos\n",
      "0    2016-17               Chelsea  30   5   3  85   33   93    1\n",
      "1    2016-17    Tottenham Hotspurs  26   4   8  86   26   86    2\n",
      "2    2016-17       Manchester City  23   6   9  80   39   78    3\n",
      "3    2016-17             Liverpool  22   6  10  78   42   76    4\n",
      "4    2016-17               Arsenal  23   9   6  77   44   75    5\n",
      "5    2016-17     Manchester United  18   5  15  54   29   69    6\n",
      "6    2016-17               Everton  17  11  10  62   44   61    7\n",
      "7    2016-17           Southampton  12  16  10  41   48   46    8\n",
      "8    2016-17           Bournemouth  12  16  10  55   67   46    9\n",
      "9    2016-17  West Bromwich Albion  12  17   9  43   51   45   10\n",
      "10   2016-17       West Ham United  12  17   9  47   64   45   11\n",
      "11   2016-17        Leicester City  12  18   8  48   63   44   12\n",
      "12   2016-17            Stoke City  11  16  11  41   56   44   13\n",
      "13   2016-17        Crystal Palace  12  21   5  50   63   41   14\n",
      "14   2016-17          Swansea City  12  21   5  45   70   41   15\n",
      "15   2016-17               Burnley  11  20   7  39   55   40   16\n",
      "16   2016-17               Watford  11  20   7  40   68   40   17\n",
      "17   2016-17             Hull City   9  22   7  37   80   34   18\n",
      "18   2016-17         Middlesbrough   5  20  13  27   53   28   19\n",
      "19   2016-17            Sunderland   6  26   6  29   69   24   20\n",
      "20   2014-15               Chelsea  26   3   9  73   32   87    1\n",
      "21   2014-15       Manchester City  24   7   7  83   38   79    2\n",
      "22   2014-15               Arsenal  22   7   9  71   36   75    3\n",
      "23   2014-15     Manchester United  20   8  10  62   37   70    4\n",
      "24   2014-15    Tottenham Hotspurs  19  12   7  58   53   64    5\n",
      "25   2014-15             Liverpool  18  12   8  52   48   62    6\n",
      "26   2014-15           Southampton  18  14   6  54   33   60    7\n",
      "27   2014-15          Swansea City  16  14   8  46   49   56    8\n",
      "28   2014-15            Stoke City  15  14   9  48   45   54    9\n",
      "29   2014-15        Crystal Palace  13  16   9  47   51   48   10\n",
      "..       ...                   ...  ..  ..  ..  ..  ...  ...  ...\n",
      "434  1994-95               Everton  11  14  17  44   51   50   15\n",
      "435  1994-95         Coventry City  12  16  14  44   62   50   16\n",
      "436  1994-95       Manchester City  12  17  13  53   64   49   17\n",
      "437  1994-95           Aston Villa  11  16  15  51   56   48   18\n",
      "438  1994-95        Crystal Palace  11  19  12  34   51   45   19\n",
      "439  1994-95          Norwich City  10  19  13  37   54   43   20\n",
      "440  1994-95             Leicester   6  25  11  45   80   29   21\n",
      "441  1994-95          Ipswich Town   7  29   6  36   93   27   22\n",
      "442  1993-94     Manchester United  27   4  11  80   38   92    1\n",
      "443  1993-94      Blackburn Rovers  25   8   9  63   36   84    2\n",
      "444  1993-94      Newcastle United  23  11   8  82   41   77    3\n",
      "445  1993-94               Arsenal  18   7  17  53   28   71    4\n",
      "446  1993-94          Leeds United  18   8  16  65   39   70    5\n",
      "447  1993-94             Wimbledon  18  13  11  56   53   65    6\n",
      "448  1993-94   Sheffield Wednesday  16  10  16  76   54   64    7\n",
      "449  1993-94             Liverpool  17  16   9  59   55   60    8\n",
      "450  1993-94   Queens Park Rangers  16  14  12  62   61   60    9\n",
      "451  1993-94           Aston Villa  15  15  12  46   50   57   10\n",
      "452  1993-94         Coventry City  14  14  14  43   45   56   11\n",
      "453  1993-94          Norwich City  12  13  17  65   61   53   12\n",
      "454  1993-94       West Ham United  13  16  13  47   58   52   13\n",
      "455  1993-94               Chelsea  13  17  12  49   53   51   14\n",
      "456  1993-94    Tottenham Hotspurs  11  19  12  54   59   45   15\n",
      "457  1993-94       Manchester City   9  15  18  38   49   45   16\n",
      "458  1993-94               Everton  12  22   8  42   63   44   17\n",
      "459  1993-94           Southampton  12  23   7  49   66   43   18\n",
      "460  1993-94          Ipswich Town   9  17  16  35   58   43   19\n",
      "461  1993-94      Sheffield United   8  16  18  42   60   42   20\n",
      "462  1993-94       Oldham Athletic   9  20  13  42   68   40   21\n",
      "463  1993-94          Swindon Town   5  22  15  47  100   30   22\n",
      "\n",
      "[464 rows x 9 columns]\n"
     ]
    }
   ],
   "source": [
    "seasons = pd.read_csv('seasons_result.csv',index_col= 'year')\n",
    "seasons = seasons.loc['2016/2017':'1993/1994'][['Team','W','L','D','F','A','Pts','Pos']]\n",
    "seasons = seasons.reset_index()\n",
    "seasons['year'] = seasons['year'].str.slice_replace(4,7,'-')\n",
    "print(seasons)"
   ]
  },
  {
   "cell_type": "code",
   "execution_count": 41,
   "metadata": {},
   "outputs": [],
   "source": [
    "original_df = pd.read_csv('EPL_Match_Results.csv')\n",
    "original_df = original_df[['Date','HomeTeam','AwayTeam','FTHG','FTAG','FTR','Season']]\n",
    "original_df['Date'] = pd.to_datetime(original_df['Date'],dayfirst=True)"
   ]
  },
  {
   "cell_type": "code",
   "execution_count": 50,
   "metadata": {},
   "outputs": [
    {
     "name": "stdout",
     "output_type": "stream",
     "text": [
      "         Date          HomeTeam          AwayTeam  FTHG  FTAG FTR   Season  \\\n",
      "0  1993-08-14           Arsenal          Coventry     0     3   A  1993-94   \n",
      "1  1993-08-14       Aston Villa               QPR     4     1   H  1993-94   \n",
      "2  1993-08-14           Chelsea         Blackburn     1     2   A  1993-94   \n",
      "3  1993-08-14         Liverpool    Sheffield Weds     2     0   H  1993-94   \n",
      "4  1993-08-14          Man City             Leeds     1     1   D  1993-94   \n",
      "5  1993-08-14         Newcastle         Tottenham     0     1   A  1993-94   \n",
      "6  1993-08-14            Oldham           Ipswich     0     3   A  1993-94   \n",
      "7  1993-08-14  Sheffield United           Swindon     3     1   H  1993-94   \n",
      "8  1993-08-14       Southampton           Everton     0     2   A  1993-94   \n",
      "9  1993-08-14          West Ham         Wimbledon     0     2   A  1993-94   \n",
      "10 1993-08-15           Norwich        Man United     0     2   A  1993-94   \n",
      "11 1993-08-16         Tottenham           Arsenal     0     1   A  1993-94   \n",
      "12 1993-08-17           Everton          Man City     1     0   H  1993-94   \n",
      "13 1993-08-17           Ipswich       Southampton     1     0   H  1993-94   \n",
      "14 1993-08-17             Leeds          West Ham     1     0   H  1993-94   \n",
      "15 1993-08-17         Wimbledon           Chelsea     1     1   D  1993-94   \n",
      "16 1993-08-18         Blackburn           Norwich     2     3   A  1993-94   \n",
      "17 1993-08-18          Coventry         Newcastle     2     1   H  1993-94   \n",
      "18 1993-08-18        Man United  Sheffield United     3     0   H  1993-94   \n",
      "19 1993-08-18               QPR         Liverpool     1     3   A  1993-94   \n",
      "20 1993-08-18    Sheffield Weds       Aston Villa     0     0   D  1993-94   \n",
      "21 1993-08-18           Swindon            Oldham     0     1   A  1993-94   \n",
      "22 1993-08-21         Blackburn            Oldham     1     0   H  1993-94   \n",
      "23 1993-08-21          Coventry          West Ham     1     1   D  1993-94   \n",
      "24 1993-08-21           Everton  Sheffield United     4     2   H  1993-94   \n",
      "25 1993-08-21           Ipswich           Chelsea     1     0   H  1993-94   \n",
      "26 1993-08-21             Leeds           Norwich     0     4   A  1993-94   \n",
      "27 1993-08-21        Man United         Newcastle     1     1   D  1993-94   \n",
      "28 1993-08-21               QPR       Southampton     2     1   H  1993-94   \n",
      "29 1993-08-21    Sheffield Weds           Arsenal     0     1   A  1993-94   \n",
      "\n",
      "       year              Team     W     L     D     F     A   Pts   Pos  \n",
      "0   1993-94           Arsenal  18.0   7.0  17.0  53.0  28.0  71.0   4.0  \n",
      "1   1993-94       Aston Villa  15.0  15.0  12.0  46.0  50.0  57.0  10.0  \n",
      "2   1993-94           Chelsea  13.0  17.0  12.0  49.0  53.0  51.0  14.0  \n",
      "3   1993-94         Liverpool  17.0  16.0   9.0  59.0  55.0  60.0   8.0  \n",
      "4       NaN               NaN   NaN   NaN   NaN   NaN   NaN   NaN   NaN  \n",
      "5       NaN               NaN   NaN   NaN   NaN   NaN   NaN   NaN   NaN  \n",
      "6       NaN               NaN   NaN   NaN   NaN   NaN   NaN   NaN   NaN  \n",
      "7   1993-94  Sheffield United   8.0  16.0  18.0  42.0  60.0  42.0  20.0  \n",
      "8   1993-94       Southampton  12.0  23.0   7.0  49.0  66.0  43.0  18.0  \n",
      "9       NaN               NaN   NaN   NaN   NaN   NaN   NaN   NaN   NaN  \n",
      "10      NaN               NaN   NaN   NaN   NaN   NaN   NaN   NaN   NaN  \n",
      "11      NaN               NaN   NaN   NaN   NaN   NaN   NaN   NaN   NaN  \n",
      "12  1993-94           Everton  12.0  22.0   8.0  42.0  63.0  44.0  17.0  \n",
      "13      NaN               NaN   NaN   NaN   NaN   NaN   NaN   NaN   NaN  \n",
      "14      NaN               NaN   NaN   NaN   NaN   NaN   NaN   NaN   NaN  \n",
      "15  1993-94         Wimbledon  18.0  13.0  11.0  56.0  53.0  65.0   6.0  \n",
      "16      NaN               NaN   NaN   NaN   NaN   NaN   NaN   NaN   NaN  \n",
      "17      NaN               NaN   NaN   NaN   NaN   NaN   NaN   NaN   NaN  \n",
      "18      NaN               NaN   NaN   NaN   NaN   NaN   NaN   NaN   NaN  \n",
      "19      NaN               NaN   NaN   NaN   NaN   NaN   NaN   NaN   NaN  \n",
      "20      NaN               NaN   NaN   NaN   NaN   NaN   NaN   NaN   NaN  \n",
      "21      NaN               NaN   NaN   NaN   NaN   NaN   NaN   NaN   NaN  \n",
      "22      NaN               NaN   NaN   NaN   NaN   NaN   NaN   NaN   NaN  \n",
      "23      NaN               NaN   NaN   NaN   NaN   NaN   NaN   NaN   NaN  \n",
      "24  1993-94           Everton  12.0  22.0   8.0  42.0  63.0  44.0  17.0  \n",
      "25      NaN               NaN   NaN   NaN   NaN   NaN   NaN   NaN   NaN  \n",
      "26      NaN               NaN   NaN   NaN   NaN   NaN   NaN   NaN   NaN  \n",
      "27      NaN               NaN   NaN   NaN   NaN   NaN   NaN   NaN   NaN  \n",
      "28      NaN               NaN   NaN   NaN   NaN   NaN   NaN   NaN   NaN  \n",
      "29      NaN               NaN   NaN   NaN   NaN   NaN   NaN   NaN   NaN  \n"
     ]
    }
   ],
   "source": [
    "merged_df = pd.merge(original_df,seasons,how='left',left_on = ('HomeTeam','Season'), right_on = ('Team','year'))\n",
    "print(merged_df.head(30))"
   ]
  },
  {
   "cell_type": "code",
   "execution_count": null,
   "metadata": {},
   "outputs": [],
   "source": []
  }
 ],
 "metadata": {
  "kernelspec": {
   "display_name": "Python 3",
   "language": "python",
   "name": "python3"
  },
  "language_info": {
   "codemirror_mode": {
    "name": "ipython",
    "version": 3
   },
   "file_extension": ".py",
   "mimetype": "text/x-python",
   "name": "python",
   "nbconvert_exporter": "python",
   "pygments_lexer": "ipython3",
   "version": "3.6.7"
  }
 },
 "nbformat": 4,
 "nbformat_minor": 2
}
