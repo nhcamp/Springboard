{
 "cells": [
  {
   "cell_type": "code",
   "execution_count": 70,
   "metadata": {},
   "outputs": [],
   "source": [
    "import pandas as pd\n",
    "import numpy as np\n",
    "from numpy import random \n",
    "import matplotlib.pyplot as plt\n",
    "from scipy import stats\n",
    "from sklearn.linear_model import LinearRegression\n",
    "from sklearn.linear_model import LogisticRegression\n",
    "from sklearn.model_selection import train_test_split\n",
    "from sklearn.model_selection import GridSearchCV\n",
    "from sklearn.ensemble import RandomForestClassifier\n",
    "from sklearn.metrics import classification_report"
   ]
  },
  {
   "cell_type": "markdown",
   "metadata": {},
   "source": [
    "The three functions below add several numerical features to my dataset. The first function, all_time_win_ratio, maps every team's all time win ratio to the opponent column. The second function, win_ratio_head2head, maps the selected team's head to head win ratio vs each opponent to the opponent column. The final function, add_league_position, maps the league position for each team in that season to the opponent column."
   ]
  },
  {
   "cell_type": "code",
   "execution_count": 2,
   "metadata": {},
   "outputs": [],
   "source": [
    "def all_time_win_ratio(df):\n",
    "    team_list = df.HomeTeam.unique()\n",
    "    all_time_ratio = {}\n",
    "    for team in team_list:\n",
    "        all_games = df.loc[(slice(None),team),:]\n",
    "        win_ratio = len(all_games[all_games['Points'] == 3])/len(all_games)\n",
    "        all_time_ratio[team] = win_ratio\n",
    "    df['opp_win_ratio'] = df['opponent'].map(all_time_ratio)\n",
    "    return df\n",
    "\n",
    "def win_ratio_head2head(df):\n",
    "    team_list = df.HomeTeam.unique()\n",
    "    chunks = []\n",
    "    for team in team_list:\n",
    "        team_games = df[df['team'] == team]\n",
    "        head2head = {}\n",
    "        opponents = team_games['opponent'].unique()\n",
    "        for opponent in opponents:\n",
    "            wins = len(team_games.loc[(team_games['opponent']==opponent) & (team_games['Points'] == 3)])\n",
    "            total = len(team_games.loc[(team_games['opponent'] == opponent)])\n",
    "            if wins > 0:\n",
    "                win_ratio = wins/total\n",
    "            else:\n",
    "                win_ratio = 0\n",
    "            head2head[opponent] = win_ratio\n",
    "        team_games['head2head_win_ratio'] = team_games['opponent'].map(head2head)\n",
    "        chunks.append(team_games)\n",
    "    dataframe = pd.concat(chunks,ignore_index=True)\n",
    "    return dataframe\n",
    "\n",
    "def add_league_position(df1,df2):\n",
    "    seasons_list1 = double_df['Season'].unique()\n",
    "    seasons_list2 = seasons.year.unique()\n",
    "    seasons_offset = [x for x in seasons_list1 if x in seasons_list2]\n",
    "    seasons_offset.remove('1993-94')\n",
    "    seasons_list1 = double_df['Season'].unique()\n",
    "    seasons_list2 = seasons.year.unique()\n",
    "    seasons_list = [x for x in seasons_list1 if x in seasons_list2]\n",
    "    seasons_list.remove('2016-17')\n",
    "    chunk_list = []\n",
    "    for i in range(len(seasons_offset)):\n",
    "        current = df2[df2['year']==seasons_list[i]]\n",
    "        teams = current['Team']\n",
    "        pos = current['Pos']\n",
    "        dictionary = dict(zip(teams,pos))\n",
    "        chunk = df1[df1['Season']==seasons_offset[i]]\n",
    "        chunk['Opp_League_Finish_Last_Year'] = chunk['opponent'].map(dictionary)\n",
    "        chunk_list.append(chunk)\n",
    "    dataframe = pd.concat(chunk_list,ignore_index=True)\n",
    "    return dataframe\n",
    "\n",
    "def home_away_numerical(df):\n",
    "    team_list = df.HomeTeam.unique()\n",
    "    chunks = []\n",
    "    for team in team_list:\n",
    "        all_games = df[df['team']==team]\n",
    "        all_games['HomeAway'] = 1\n",
    "        all_games.loc[all_games['AwayTeam']==team,'HomeAway'] = 0\n",
    "        chunks.append(all_games)\n",
    "    dataframe = pd.concat(chunks,ignore_index=True)\n",
    "    return dataframe\n",
    "\n",
    "def win_streak(df):\n",
    "    team_list = df['HomeTeam'].unique()\n",
    "    chunk_list = []\n",
    "    for team in team_list:\n",
    "        team_games = double_df.loc[(slice(None),team),:]\n",
    "        streak_list = []\n",
    "        streak = 0\n",
    "        for (season, team, date), data in team_games.iterrows():\n",
    "            if data['Points'] == 3:\n",
    "                streak_list.append(streak)\n",
    "                streak += 1\n",
    "            elif data['Points'] != 3: \n",
    "                streak_list.append(streak)\n",
    "                streak = 0\n",
    "        team_games['Streak'] = streak_list\n",
    "        chunk_list.append(team_games)\n",
    "    dataframe = pd.concat(chunk_list)\n",
    "    return dataframe\n",
    "\n",
    "def home_away_points(df, season):\n",
    "    team_list = df.loc[season]['HomeTeam'].unique()\n",
    "    home_points= []\n",
    "    away_points = []\n",
    "    for team in team_list:\n",
    "        team_df = df.loc[(season,team)]\n",
    "        home = team_df['HomeTeam'] == team\n",
    "        away = team_df['AwayTeam'] == team\n",
    "        home_points.append(team_df.loc[home,'Points'].mean().round(2))\n",
    "        away_points.append(team_df.loc[away, 'Points'].mean().round(2))\n",
    "    dataframe = pd.DataFrame({'Teams':team_list,'Mean Home Points':home_points,'Mean Away Points' : away_points})\n",
    "    dataframe.set_index('Teams', inplace=True)\n",
    "    dataframe.plot(kind='Bar',title='Mean Home and Away Points in ' + season)\n",
    "    \n",
    "def cumulative_points(df,season):\n",
    "    team_list = df.loc[season]['HomeTeam'].unique()\n",
    "    most_least_list = []\n",
    "    most_least_dict = {}\n",
    "    for team in team_list:\n",
    "        last_year = df.loc[(season,team)]\n",
    "        most_least_list.append(last_year['Points'].sum())\n",
    "        most_least_dict[last_year['Points'].sum()] = team\n",
    "    most_least_list = sorted(most_least_list)\n",
    "    best_team = df.loc[(season,most_least_dict[most_least_list[-1]])]\n",
    "    mid_team = df.loc[(season,most_least_dict[most_least_list[9]])]\n",
    "    worst_team = df.loc[(season,most_least_dict[most_least_list[0]])]\n",
    "    best_team = best_team.reset_index(drop=True)\n",
    "    mid_team = mid_team.reset_index(drop=True)\n",
    "    worst_team = worst_team.reset_index(drop=True)\n",
    "    best_cum_points = best_team['Points'].cumsum()\n",
    "    best_cum_randoms = best_team['Random Points'].cumsum()\n",
    "    mid_cum_points = mid_team['Points'].cumsum()\n",
    "    mid_cum_randoms = mid_team['Random Points'].cumsum()\n",
    "    worst_cum_points = worst_team['Points'].cumsum()\n",
    "    worst_cum_randoms = worst_team['Random Points'].cumsum()\n",
    "    best_cum_points.plot(color='blue',label='Top Team Real Results')\n",
    "    best_cum_randoms.plot(color='red',label='Top Team Random Results')\n",
    "    mid_cum_points.plot(color='green', label = 'Mid Table Team Real Results')\n",
    "    mid_cum_randoms.plot(color='yellow', label='Mid Table Team Random Results')\n",
    "    worst_cum_points.plot(color='brown',label='Bottom Team Real Results')\n",
    "    worst_cum_randoms.plot(color='black',label='Bottom Team Random Results')\n",
    "    plt.xlabel('Games')\n",
    "    plt.ylabel('Points')\n",
    "    plt.title(\"Point Total from \" + season + ': Expected vs. Actual')\n",
    "    plt.legend(loc='upper left')\n",
    "    plt.tight_layout()\n",
    "    plt.show()\n",
    "\n",
    "##function to filter a team's results by w/d/l and add the points to the df\n",
    "def results_and_points(df, team_list):\n",
    "    for team in team_list:    \n",
    "        real_win = ((df['team'] == team) & (df['HomeTeam'] == team) & (df['FTR'] =='H')) |((df['team'] == team) & (df['AwayTeam'] ==team) & (df['FTR'] =='A'))\n",
    "        real_tie = ((df['team'] == team) & (df['HomeTeam'] == team) & (df['FTR'] =='D')) |((df['team'] == team) & (df['AwayTeam'] ==team) & (df['FTR'] =='D'))\n",
    "        real_loss = ((df['team'] == team) & (df['HomeTeam'] == team) & (df['FTR'] =='A')) |((df['team'] == team) & (df['AwayTeam'] ==team) & (df['FTR'] =='H'))\n",
    "        random_win = ((df['team'] == team) & (df['HomeTeam'] == team) & (df['randomResult'] =='H')) |((df['team'] == team) & (df['AwayTeam'] ==team) & (df['randomResult'] =='A'))\n",
    "        random_tie = ((df['team'] == team) & (df['HomeTeam'] == team) & (df['randomResult'] =='D')) |((df['team'] == team) & (df['AwayTeam'] ==team) & (df['randomResult'] =='D'))\n",
    "        random_loss = ((df['team'] == team) & (df['HomeTeam'] == team) & (df['randomResult'] =='A')) |((df['team'] == team) & (df['AwayTeam'] ==team) & (df['randomResult'] =='H'))\n",
    "        df.loc[real_win,'Points']=3\n",
    "        df.loc[real_tie,'Points']=1\n",
    "        df.loc[real_loss, 'Points']=0\n",
    "        df.loc[random_win, 'Random Points'] = 3\n",
    "        df.loc[random_tie, 'Random Points'] = 1\n",
    "        df.loc[random_loss, 'Random Points'] = 0\n",
    "    return df\n",
    "    "
   ]
  },
  {
   "cell_type": "code",
   "execution_count": 3,
   "metadata": {},
   "outputs": [
    {
     "name": "stdout",
     "output_type": "stream",
     "text": [
      "        Date          HomeTeam        AwayTeam  FTHG  FTAG FTR   Season randomResult\n",
      "0 1993-08-14           Arsenal        Coventry     0     3   A  1993-94            D\n",
      "1 1993-08-14       Aston Villa             QPR     4     1   H  1993-94            D\n",
      "2 1993-08-14           Chelsea       Blackburn     1     2   A  1993-94            H\n",
      "3 1993-08-14         Liverpool  Sheffield Weds     2     0   H  1993-94            A\n",
      "4 1993-08-14          Man City           Leeds     1     1   D  1993-94            D\n",
      "5 1993-08-14         Newcastle       Tottenham     0     1   A  1993-94            H\n",
      "6 1993-08-14            Oldham         Ipswich     0     3   A  1993-94            D\n",
      "7 1993-08-14  Sheffield United         Swindon     3     1   H  1993-94            H\n",
      "8 1993-08-14       Southampton         Everton     0     2   A  1993-94            H\n",
      "9 1993-08-14          West Ham       Wimbledon     0     2   A  1993-94            D\n"
     ]
    }
   ],
   "source": [
    "#Loading in a dataframe of match results and season results and cleaning columns\n",
    "original_df = pd.read_csv('EPL_Match_Results.csv')\n",
    "original_df = original_df[['Date','HomeTeam','AwayTeam','FTHG','FTAG','FTR','Season']]\n",
    "original_df['Date'] = pd.to_datetime(original_df['Date'],dayfirst=True)\n",
    "#Adding random results with a random integer and changing all the 2's to 3's\n",
    "original_df['randomResult'] = np.random.randint(0,3,len(original_df))\n",
    "\n",
    "away_win = original_df['randomResult'] == 0\n",
    "draw = original_df['randomResult'] == 1\n",
    "home_win = original_df['randomResult'] == 2\n",
    "                  \n",
    "original_df.loc[home_win,'randomResult'] = 'H'\n",
    "original_df.loc[draw, 'randomResult'] = 'D'\n",
    "original_df.loc[away_win, 'randomResult'] = 'A'\n",
    "\n",
    "seasons = pd.read_csv('seasons_result.csv',index_col= 'year')\n",
    "seasons = seasons.loc['2016/2017':'1993/1994'][['Team','W','L','D','F','A','Pts','Pos']]\n",
    "seasons = seasons.reset_index()\n",
    "seasons['year'] = seasons['year'].str.slice_replace(4,7,'-')\n",
    "seasons['Team'] = seasons['Team'].str.replace('Manchester United', 'Man United')\n",
    "seasons['Team'] = seasons['Team'].str.replace('Manchester City', 'Man City')\n",
    "seasons['Team'] = seasons['Team'].str.replace('Tottenham Hotspurs', 'Tottenham')\n",
    "seasons['Team'] = seasons['Team'].str.replace('West Bromwich Albion', 'West Brom')\n",
    "seasons['Team'] = seasons['Team'].str.replace('Birmingham City', 'Birmingham')\n",
    "seasons['Team'] = seasons['Team'].str.replace('Blackburn Rovers', 'Blackburn')\n",
    "seasons['Team'] = seasons['Team'].str.replace('Bolton Wanderers', 'Bolton')\n",
    "seasons['Team'] = seasons['Team'].str.replace('Bradford City', 'Bradford')\n",
    "seasons['Team'] = seasons['Team'].str.replace('Cardiff City', 'Cardiff')\n",
    "seasons['Team'] = seasons['Team'].str.replace('Charlton Athletic', 'Charlton')\n",
    "seasons['Team'] = seasons['Team'].str.replace('Coventry City', 'Coventry')\n",
    "seasons['Team'] = seasons['Team'].str.replace('Derby County', 'Derby')\n",
    "seasons['Team'] = seasons['Team'].str.replace('Hull City', 'Hull')\n",
    "seasons['Team'] = seasons['Team'].str.replace('Ipswich Town', 'Ipswich')\n",
    "seasons['Team'] = seasons['Team'].str.replace('Leeds United', 'Leeds')\n",
    "seasons['Team'] = seasons['Team'].str.replace('Leicester City', 'Leicester')\n",
    "seasons['Team'] = seasons['Team'].str.replace('Newcastle United', 'Newcastle')\n",
    "seasons['Team'] = seasons['Team'].str.replace('Norwich City', 'Norwich')\n",
    "seasons['Team'] = seasons['Team'].str.replace('Nottingham Forest', \"Nott'm Forest\")\n",
    "seasons['Team'] = seasons['Team'].str.replace('Queens Park Rangers', 'QPR')\n",
    "seasons['Team'] = seasons['Team'].str.replace('Oldham Athletic','Oldham')\n",
    "seasons['Team'] = seasons['Team'].str.replace('Sheffield Wednesday', 'Sheffield Weds')\n",
    "seasons['Team'] = seasons['Team'].str.replace('Stoke City', 'Stoke')\n",
    "seasons['Team'] = seasons['Team'].str.replace('Swansea City', 'Swansea')\n",
    "seasons['Team'] = seasons['Team'].str.replace('Swindon Town', 'Swindon')\n",
    "seasons['Team'] = seasons['Team'].str.replace('West Bromwich Albion', 'West Brom')\n",
    "seasons['Team'] = seasons['Team'].str.replace('West Ham United','West Ham')\n",
    "seasons['Team'] = seasons['Team'].str.replace('Wolverhampton Wanderers','Wolves')\n",
    "\n",
    "\n",
    "seasons['year'] = seasons['year'].str.replace('2002-','2002-03')\n",
    "seasons['year'] = seasons['year'].str.replace('2003-','2003-04')\n",
    "seasons['year'] = seasons['year'].str.replace('2004-','2004-05')\n",
    "seasons['year'] = seasons['year'].str.replace('2005-','2005-06')\n",
    "\n",
    "team_list = []\n",
    "team_list = original_df.HomeTeam.unique()\n",
    "pd.set_option('display.max_columns', 10)\n",
    "pd.set_option('display.width', 1000)\n",
    "print(original_df.head(10))"
   ]
  },
  {
   "cell_type": "markdown",
   "metadata": {},
   "source": [
    "The following cell turns the dataframe I originally loaded into the format I need for analyzing matches. I had to copy the original and make new columns for both so that when I concatenated them together I could have all of a team's games represented in order by season."
   ]
  },
  {
   "cell_type": "code",
   "execution_count": 43,
   "metadata": {
    "scrolled": true
   },
   "outputs": [
    {
     "data": {
      "text/html": [
       "<div>\n",
       "<style scoped>\n",
       "    .dataframe tbody tr th:only-of-type {\n",
       "        vertical-align: middle;\n",
       "    }\n",
       "\n",
       "    .dataframe tbody tr th {\n",
       "        vertical-align: top;\n",
       "    }\n",
       "\n",
       "    .dataframe thead th {\n",
       "        text-align: right;\n",
       "    }\n",
       "</style>\n",
       "<table border=\"1\" class=\"dataframe\">\n",
       "  <thead>\n",
       "    <tr style=\"text-align: right;\">\n",
       "      <th></th>\n",
       "      <th></th>\n",
       "      <th></th>\n",
       "      <th>HomeTeam</th>\n",
       "      <th>AwayTeam</th>\n",
       "      <th>FTHG</th>\n",
       "      <th>FTAG</th>\n",
       "      <th>FTR</th>\n",
       "      <th>...</th>\n",
       "      <th>HomeAway</th>\n",
       "      <th>Opp_League_Finish_Last_Year</th>\n",
       "      <th>opp_win_ratio</th>\n",
       "      <th>Streak</th>\n",
       "      <th>Result</th>\n",
       "    </tr>\n",
       "    <tr>\n",
       "      <th>Season</th>\n",
       "      <th>team</th>\n",
       "      <th>Date</th>\n",
       "      <th></th>\n",
       "      <th></th>\n",
       "      <th></th>\n",
       "      <th></th>\n",
       "      <th></th>\n",
       "      <th></th>\n",
       "      <th></th>\n",
       "      <th></th>\n",
       "      <th></th>\n",
       "      <th></th>\n",
       "      <th></th>\n",
       "    </tr>\n",
       "  </thead>\n",
       "  <tbody>\n",
       "    <tr>\n",
       "      <th rowspan=\"5\" valign=\"top\">1994-95</th>\n",
       "      <th rowspan=\"5\" valign=\"top\">Arsenal</th>\n",
       "      <th>1994-08-20</th>\n",
       "      <td>Arsenal</td>\n",
       "      <td>Man City</td>\n",
       "      <td>3</td>\n",
       "      <td>0</td>\n",
       "      <td>H</td>\n",
       "      <td>...</td>\n",
       "      <td>1</td>\n",
       "      <td>16.0</td>\n",
       "      <td>0.436923</td>\n",
       "      <td>0</td>\n",
       "      <td>Win</td>\n",
       "    </tr>\n",
       "    <tr>\n",
       "      <th>1994-08-23</th>\n",
       "      <td>Leeds</td>\n",
       "      <td>Arsenal</td>\n",
       "      <td>1</td>\n",
       "      <td>0</td>\n",
       "      <td>H</td>\n",
       "      <td>...</td>\n",
       "      <td>0</td>\n",
       "      <td>5.0</td>\n",
       "      <td>0.414062</td>\n",
       "      <td>1</td>\n",
       "      <td>Loss</td>\n",
       "    </tr>\n",
       "    <tr>\n",
       "      <th>1994-08-28</th>\n",
       "      <td>Liverpool</td>\n",
       "      <td>Arsenal</td>\n",
       "      <td>3</td>\n",
       "      <td>0</td>\n",
       "      <td>H</td>\n",
       "      <td>...</td>\n",
       "      <td>0</td>\n",
       "      <td>8.0</td>\n",
       "      <td>0.510714</td>\n",
       "      <td>0</td>\n",
       "      <td>Loss</td>\n",
       "    </tr>\n",
       "    <tr>\n",
       "      <th>1994-08-31</th>\n",
       "      <td>Arsenal</td>\n",
       "      <td>Blackburn</td>\n",
       "      <td>0</td>\n",
       "      <td>0</td>\n",
       "      <td>D</td>\n",
       "      <td>...</td>\n",
       "      <td>1</td>\n",
       "      <td>2.0</td>\n",
       "      <td>0.354575</td>\n",
       "      <td>0</td>\n",
       "      <td>Draw</td>\n",
       "    </tr>\n",
       "    <tr>\n",
       "      <th>1994-09-10</th>\n",
       "      <td>Norwich</td>\n",
       "      <td>Arsenal</td>\n",
       "      <td>0</td>\n",
       "      <td>0</td>\n",
       "      <td>D</td>\n",
       "      <td>...</td>\n",
       "      <td>0</td>\n",
       "      <td>12.0</td>\n",
       "      <td>0.242268</td>\n",
       "      <td>0</td>\n",
       "      <td>Draw</td>\n",
       "    </tr>\n",
       "  </tbody>\n",
       "</table>\n",
       "<p>5 rows × 15 columns</p>\n",
       "</div>"
      ],
      "text/plain": [
       "                             HomeTeam   AwayTeam  FTHG  FTAG FTR   ...   HomeAway Opp_League_Finish_Last_Year  opp_win_ratio  Streak  Result\n",
       "Season  team    Date                                               ...                                                                      \n",
       "1994-95 Arsenal 1994-08-20    Arsenal   Man City     3     0   H   ...          1                        16.0       0.436923       0     Win\n",
       "                1994-08-23      Leeds    Arsenal     1     0   H   ...          0                         5.0       0.414062       1    Loss\n",
       "                1994-08-28  Liverpool    Arsenal     3     0   H   ...          0                         8.0       0.510714       0    Loss\n",
       "                1994-08-31    Arsenal  Blackburn     0     0   D   ...          1                         2.0       0.354575       0    Draw\n",
       "                1994-09-10    Norwich    Arsenal     0     0   D   ...          0                        12.0       0.242268       0    Draw\n",
       "\n",
       "[5 rows x 15 columns]"
      ]
     },
     "execution_count": 43,
     "metadata": {},
     "output_type": "execute_result"
    }
   ],
   "source": [
    "pd.options.mode.chained_assignment = None\n",
    "original_df1 = original_df.copy()\n",
    "original_df1['team'] = original_df1['HomeTeam']\n",
    "original_df1['opponent'] = original_df1['AwayTeam']\n",
    "original_df['team'] = original_df1['AwayTeam']\n",
    "original_df['opponent'] = original_df1['HomeTeam']\n",
    "double_df = pd.concat([original_df,original_df1])\n",
    "double_df = results_and_points(double_df, team_list)\n",
    "double_df = win_ratio_head2head(double_df)\n",
    "double_df = home_away_numerical(double_df)\n",
    "double_df = add_league_position(double_df,seasons)\n",
    "double_df.set_index(['Season','team','Date'], inplace=True)\n",
    "double_df.sort_index(inplace=True, level = [0,1,2])\n",
    "double_df = all_time_win_ratio(double_df)\n",
    "double_df = win_streak(double_df)\n",
    "double_df.sort_index(inplace=True, level = [0,1,2])\n",
    "double_df['Opp_League_Finish_Last_Year'].fillna(20,inplace=True)\n",
    "double_df['Result'] = 'Win'\n",
    "double_df.loc[double_df['Points'] == 1, 'Result'] = 'Draw'\n",
    "double_df.loc[double_df['Points']== 0, 'Result'] = 'Loss'\n",
    "double_df.head()"
   ]
  },
  {
   "cell_type": "code",
   "execution_count": 86,
   "metadata": {},
   "outputs": [
    {
     "name": "stdout",
     "output_type": "stream",
     "text": [
      "3.2169247842974165 0.0016943575091204052\n"
     ]
    }
   ],
   "source": [
    "# Two sample ttest for difference in mean points home and away across all seasons. Statistically significant.\n",
    "team = double_df.loc[(slice(None),'Watford'),:]\n",
    "home = team['HomeTeam'] == 'Watford'\n",
    "away = team['AwayTeam'] == 'Watford'\n",
    "x = team[home]['Points']\n",
    "y = team[away]['Points']\n",
    "t,p = stats.ttest_ind(x,y)\n",
    "print(t,p)"
   ]
  },
  {
   "cell_type": "code",
   "execution_count": 75,
   "metadata": {},
   "outputs": [],
   "source": [
    "all_games_modeled = pd.get_dummies(double_df,prefix = ['opp'], columns = ['opponent'])\n",
    "train = all_games_modeled.loc['1994-95':'2015-16']\n",
    "X_train = train.drop(['FTHG','FTAG','HomeTeam','AwayTeam', 'Random Points','randomResult','FTR','Points','Result'],axis = 1)\n",
    "y_train = train['Result']\n",
    "test = all_games_modeled.loc['2016-17']\n",
    "X_test = test.drop(['FTHG','FTAG','HomeTeam','AwayTeam', 'Random Points','randomResult','FTR','Points','Result'],axis = 1)\n",
    "y_test = test['Result']\n",
    "logreg_grid = LogisticRegression(multi_class='multinomial',solver = 'lbfgs',max_iter=1000)\n",
    "params = {'C':[0.001, 0.01, 0.1, 1, 10, 100, 1000]}\n",
    "CLF = GridSearchCV(logreg_grid,params,cv = 5,scoring='accuracy')\n",
    "CLF.fit(X_train,y_train)\n",
    "CLF.best_params_"
   ]
  },
  {
   "cell_type": "code",
   "execution_count": 78,
   "metadata": {},
   "outputs": [
    {
     "data": {
      "text/plain": [
       "0.5973684210526315"
      ]
     },
     "execution_count": 78,
     "metadata": {},
     "output_type": "execute_result"
    }
   ],
   "source": [
    "logreg = LogisticRegression(multi_class='multinomial',solver = 'lbfgs',max_iter=1000, C = 0.1)\n",
    "logreg.fit(X_train,y_train)\n",
    "logreg.score(X_test,y_test)"
   ]
  },
  {
   "cell_type": "code",
   "execution_count": 85,
   "metadata": {},
   "outputs": [
    {
     "name": "stdout",
     "output_type": "stream",
     "text": [
      "{'max_depth': 8.2, 'n_estimators': 500} 0.5316918878690151\n"
     ]
    }
   ],
   "source": [
    "all_games_modeled = pd.get_dummies(double_df,prefix = ['opp'], columns = ['opponent'])\n",
    "train = all_games_modeled.loc['1994-95':'2015-16']\n",
    "X_train = train.drop(['FTHG','FTAG','HomeTeam','AwayTeam', 'Random Points','randomResult','FTR','Points','Result'],axis = 1)\n",
    "y_train = train['Points']\n",
    "test = all_games_modeled.loc['2016-17']\n",
    "X_test = test.drop(['FTHG','FTAG','HomeTeam','AwayTeam', 'Random Points','randomResult','FTR','Points','Result'],axis = 1)\n",
    "y_test = test['Points']\n",
    "rf_grid = RandomForestClassifier(max_features='sqrt')\n",
    "params = {'n_estimators':[250,500,750],'max_depth': np.linspace(7,13,6)}\n",
    "clf = GridSearchCV(rf_grid,params,cv = 5,scoring='accuracy')\n",
    "clf.fit(X_train,y_train)\n",
    "print(clf.best_params_,clf.best_score_)"
   ]
  },
  {
   "cell_type": "code",
   "execution_count": 86,
   "metadata": {},
   "outputs": [
    {
     "data": {
      "text/plain": [
       "0.5973684210526315"
      ]
     },
     "execution_count": 86,
     "metadata": {},
     "output_type": "execute_result"
    }
   ],
   "source": [
    "rf = RandomForestClassifier(max_features = 'sqrt', n_estimators = 500, max_depth = 8.2 )\n",
    "rf.fit(X_train,y_train)\n",
    "rf.score(X_test,y_test)"
   ]
  },
  {
   "cell_type": "code",
   "execution_count": 89,
   "metadata": {},
   "outputs": [
    {
     "data": {
      "text/plain": [
       "0.6381578947368421"
      ]
     },
     "execution_count": 89,
     "metadata": {},
     "output_type": "execute_result"
    }
   ],
   "source": [
    "top_teams_model = double_df.loc[(slice(None),['Arsenal','Chelsea','Man United','Liverpool']),:]\n",
    "top_teams_model = pd.get_dummies(top_teams_model,prefix = ['opp'], columns = ['opponent'])\n",
    "train_topteams = top_teams_model.loc['1994-95':'2015-16']\n",
    "X_train_topteams = train_topteams.drop(['FTHG','FTAG','HomeTeam','AwayTeam', 'Random Points','randomResult','FTR','Points','Result'],axis = 1)\n",
    "y_train_topteams = train_topteams['Points']\n",
    "test_topteams = top_teams_model.loc['2016-17']\n",
    "X_test_topteams = test_topteams.drop(['FTHG','FTAG','HomeTeam','AwayTeam', 'Random Points','randomResult','FTR','Points','Result'],axis = 1)\n",
    "y_test_topteams = test_topteams['Points']\n",
    "rf_top = RandomForestClassifier(max_features='sqrt',n_estimators=500, max_depth=8 )\n",
    "rf_top.fit(X_train_topteams,y_train_topteams)\n",
    "rf_top.score(X_test_topteams,y_test_topteams)"
   ]
  },
  {
   "cell_type": "code",
   "execution_count": 82,
   "metadata": {},
   "outputs": [
    {
     "data": {
      "image/png": "[encoded data removed]",
      "text/plain": [
       "<Figure size 432x288 with 3 Axes>"
      ]
     },
     "metadata": {
      "needs_background": "light"
     },
     "output_type": "display_data"
    }
   ],
   "source": [
    "chelsea = double_df.loc[(slice(None),'Arsenal'),:]\n",
    "chelseawin = chelsea[chelsea['Points'] == 3]\n",
    "chelseadraw = chelsea[chelsea['Points'] == 1]\n",
    "chelsealoss = chelsea[chelsea['Points'] == 0]\n",
    "x = chelseawin['opp_win_ratio']\n",
    "y = chelseadraw['opp_win_ratio']\n",
    "z = chelsealoss['opp_win_ratio']\n",
    "fig, axs = plt.subplots(nrows = 3,ncols = 1,sharex = True,sharey=False)\n",
    "axs[0].hist(x,bins=35,label='Wins',color = 'red')\n",
    "axs[1].hist(y,bins=35,label='Draws',color='orange')\n",
    "axs[2].hist(z,bins=35,label='Losses',color = 'black')\n",
    "plt.xlabel(\"Opponent's League Finish Last Year\")\n",
    "plt.ylabel('Count')\n",
    "plt.xlim(0.15,.7)\n",
    "#plt.ylim(0,15)\n",
    "plt.xticks([0.15,0.3,0.45,0.60,0.75])\n",
    "plt.tight_layout\n",
    "fig.legend(loc='upper left')\n",
    "plt.show()"
   ]
  },
  {
   "cell_type": "code",
   "execution_count": 162,
   "metadata": {},
   "outputs": [
    {
     "data": {
      "text/plain": [
       "array([[ 1.        , -0.50608056],\n",
       "       [-0.50608056,  1.        ]])"
      ]
     },
     "execution_count": 162,
     "metadata": {},
     "output_type": "execute_result"
    },
    {
     "data": {
      "image/png": "[encoded data removed]",
      "text/plain": [
       "<Figure size 432x288 with 1 Axes>"
      ]
     },
     "metadata": {
      "needs_background": "light"
     },
     "output_type": "display_data"
    }
   ],
   "source": [
    "head2head_oppwin = double_df[['opp_win_ratio','head2head_win_ratio']]\n",
    "head2head_oppwin.reset_index(inplace=True)\n",
    "y=head2head_oppwin['opp_win_ratio']\n",
    "x=head2head_oppwin['head2head_win_ratio']\n",
    "plt.scatter(x,y, marker = '.')\n",
    "plt.ylabel(\"Opponent's All-Time Win Ratio\")\n",
    "plt.xlabel(\"Team's Head to Head Win Ratio vs. Opponent\")\n",
    "np.corrcoef(x,y)"
   ]
  }
 ],
 "metadata": {
  "kernelspec": {
   "display_name": "Python 3",
   "language": "python",
   "name": "python3"
  },
  "language_info": {
   "codemirror_mode": {
    "name": "ipython",
    "version": 3
   },
   "file_extension": ".py",
   "mimetype": "text/x-python",
   "name": "python",
   "nbconvert_exporter": "python",
   "pygments_lexer": "ipython3",
   "version": "3.6.7"
  }
 },
 "nbformat": 4,
 "nbformat_minor": 2
}
